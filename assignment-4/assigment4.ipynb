{
 "cells": [
  {
   "cell_type": "markdown",
   "id": "5903da05",
   "metadata": {},
   "source": [
    "# Modelling Galaxy Masses Using a Neural Network"
   ]
  },
  {
   "cell_type": "code",
   "execution_count": 19,
   "id": "b0e63163",
   "metadata": {},
   "outputs": [],
   "source": [
    "# imports\n",
    "import numpy as np\n",
    "import pandas as pd\n",
    "import matplotlib.pyplot as plt"
   ]
  },
  {
   "cell_type": "markdown",
   "id": "f90e50da",
   "metadata": {},
   "source": [
    "In cosmology, calculating masses of galaxies is an important part of understanding galactic structure and dynamics. Discrepancies between the total baryonic mass of a galaxy and its mass as inferred from its dynamics was crucial in the discovery of dark matter, and being able to deduce the total mass of a galaxy from its light and colours remains an important exercise in improving scientific understanding of galaxies and cosmology. [Francis et al. (2025)](https://ui.adsabs.harvard.edu/link_gateway/2025AJ....169..186D/doi:10.3847/1538-3881/adaf21) present a model to convert Wide-field Infrared Spectroscopy Explorer (WISE) W1-band fluxes into stellar masses. As part of their work, they include a table of total stellar masses of a number of galaxies, alongside their total luminosity in the W1 band and g-W1 photometric colours. In this report, I train and test a neural network on this dataset. Specifically, this model retrieves the total mass of a galaxy based on inputs of galaxy luminosity and g-W1 colour.\n",
    "\n",
    "The raw data from the study, retrieved from [SPARC](https://astroweb.case.edu/SPARC/) (associated with [Lelli, McGaugh and Schombert, 2016](https://ui.adsabs.harvard.edu/link_gateway/2016AJ....152..157L/doi:10.3847/0004-6256/152/6/157)), can be found in `wise_ii.table1.txt`. We start by extracting and viewing the data:"
   ]
  },
  {
   "cell_type": "code",
   "execution_count": 18,
   "id": "1ecf47ae",
   "metadata": {},
   "outputs": [
    {
     "data": {
      "text/html": [
       "<div>\n",
       "<style scoped>\n",
       "    .dataframe tbody tr th:only-of-type {\n",
       "        vertical-align: middle;\n",
       "    }\n",
       "\n",
       "    .dataframe tbody tr th {\n",
       "        vertical-align: top;\n",
       "    }\n",
       "\n",
       "    .dataframe thead th {\n",
       "        text-align: right;\n",
       "    }\n",
       "</style>\n",
       "<table border=\"1\" class=\"dataframe\">\n",
       "  <thead>\n",
       "    <tr style=\"text-align: right;\">\n",
       "      <th></th>\n",
       "      <th>Galaxy</th>\n",
       "      <th>LogL</th>\n",
       "      <th>LogM</th>\n",
       "      <th>err_M</th>\n",
       "      <th>g-W1</th>\n",
       "      <th>M/L</th>\n",
       "    </tr>\n",
       "  </thead>\n",
       "  <tbody>\n",
       "    <tr>\n",
       "      <th>0</th>\n",
       "      <td>NGC2403</td>\n",
       "      <td>10.014</td>\n",
       "      <td>9.760</td>\n",
       "      <td>0.018</td>\n",
       "      <td>2.97</td>\n",
       "      <td>0.56</td>\n",
       "    </tr>\n",
       "    <tr>\n",
       "      <th>1</th>\n",
       "      <td>NGC4051</td>\n",
       "      <td>11.145</td>\n",
       "      <td>11.057</td>\n",
       "      <td>0.006</td>\n",
       "      <td>3.46</td>\n",
       "      <td>0.82</td>\n",
       "    </tr>\n",
       "    <tr>\n",
       "      <th>2</th>\n",
       "      <td>F568-V1</td>\n",
       "      <td>9.439</td>\n",
       "      <td>9.174</td>\n",
       "      <td>0.036</td>\n",
       "      <td>2.85</td>\n",
       "      <td>0.54</td>\n",
       "    </tr>\n",
       "    <tr>\n",
       "      <th>3</th>\n",
       "      <td>NGC3726</td>\n",
       "      <td>10.837</td>\n",
       "      <td>10.706</td>\n",
       "      <td>0.006</td>\n",
       "      <td>3.31</td>\n",
       "      <td>0.74</td>\n",
       "    </tr>\n",
       "    <tr>\n",
       "      <th>4</th>\n",
       "      <td>UGC03546</td>\n",
       "      <td>10.965</td>\n",
       "      <td>10.744</td>\n",
       "      <td>0.006</td>\n",
       "      <td>3.08</td>\n",
       "      <td>0.60</td>\n",
       "    </tr>\n",
       "    <tr>\n",
       "      <th>...</th>\n",
       "      <td>...</td>\n",
       "      <td>...</td>\n",
       "      <td>...</td>\n",
       "      <td>...</td>\n",
       "      <td>...</td>\n",
       "      <td>...</td>\n",
       "    </tr>\n",
       "    <tr>\n",
       "      <th>106</th>\n",
       "      <td>F568-1</td>\n",
       "      <td>9.674</td>\n",
       "      <td>9.411</td>\n",
       "      <td>0.061</td>\n",
       "      <td>2.50</td>\n",
       "      <td>0.55</td>\n",
       "    </tr>\n",
       "    <tr>\n",
       "      <th>107</th>\n",
       "      <td>UGC07151</td>\n",
       "      <td>9.352</td>\n",
       "      <td>9.117</td>\n",
       "      <td>0.016</td>\n",
       "      <td>3.04</td>\n",
       "      <td>0.58</td>\n",
       "    </tr>\n",
       "    <tr>\n",
       "      <th>108</th>\n",
       "      <td>UGC07232</td>\n",
       "      <td>7.968</td>\n",
       "      <td>7.704</td>\n",
       "      <td>0.032</td>\n",
       "      <td>2.54</td>\n",
       "      <td>0.55</td>\n",
       "    </tr>\n",
       "    <tr>\n",
       "      <th>109</th>\n",
       "      <td>NGC5585</td>\n",
       "      <td>9.487</td>\n",
       "      <td>9.222</td>\n",
       "      <td>0.008</td>\n",
       "      <td>2.78</td>\n",
       "      <td>0.54</td>\n",
       "    </tr>\n",
       "    <tr>\n",
       "      <th>110</th>\n",
       "      <td>UGC09992</td>\n",
       "      <td>8.384</td>\n",
       "      <td>8.138</td>\n",
       "      <td>0.058</td>\n",
       "      <td>3.00</td>\n",
       "      <td>0.57</td>\n",
       "    </tr>\n",
       "  </tbody>\n",
       "</table>\n",
       "<p>111 rows × 6 columns</p>\n",
       "</div>"
      ],
      "text/plain": [
       "       Galaxy    LogL    LogM  err_M  g-W1   M/L\n",
       "0     NGC2403  10.014   9.760  0.018  2.97  0.56\n",
       "1     NGC4051  11.145  11.057  0.006  3.46  0.82\n",
       "2     F568-V1   9.439   9.174  0.036  2.85  0.54\n",
       "3     NGC3726  10.837  10.706  0.006  3.31  0.74\n",
       "4    UGC03546  10.965  10.744  0.006  3.08  0.60\n",
       "..        ...     ...     ...    ...   ...   ...\n",
       "106    F568-1   9.674   9.411  0.061  2.50  0.55\n",
       "107  UGC07151   9.352   9.117  0.016  3.04  0.58\n",
       "108  UGC07232   7.968   7.704  0.032  2.54  0.55\n",
       "109   NGC5585   9.487   9.222  0.008  2.78  0.54\n",
       "110  UGC09992   8.384   8.138  0.058  3.00  0.57\n",
       "\n",
       "[111 rows x 6 columns]"
      ]
     },
     "execution_count": 18,
     "metadata": {},
     "output_type": "execute_result"
    }
   ],
   "source": [
    "# load data\n",
    "data = \"wise_ii.table1.txt\"\n",
    "with open(data) as f:\n",
    "    lines = f.readlines()\n",
    "\n",
    "# process data\n",
    "data = []\n",
    "for line in lines[16:]: # remove header\n",
    "    values = line.split()\n",
    "    data.append([v for v in values])\n",
    "\n",
    "data = pd.DataFrame(data, columns=['Galaxy', 'LogL', 'LogM', 'err_M', 'g-W1', 'M/L'])\n",
    "data = data.astype({'Galaxy': 'str','LogL': 'float', 'LogM': 'float', 'err_M': 'float', 'g-W1': 'float', 'M/L': 'float'})\n",
    "data = data.sample(frac=1).reset_index(drop=True) # shuffle data in case of bias in ordering\n",
    "data"
   ]
  },
  {
   "cell_type": "markdown",
   "id": "9231b45b",
   "metadata": {},
   "source": [
    "Note that due to large numbers, we are dealing with logarithmic masses and luminosities. Both of these values are scaled according to solar quantities. g-W1 colours are in units of magnitude."
   ]
  },
  {
   "cell_type": "markdown",
   "id": "ff850d80",
   "metadata": {},
   "source": [
    "## Model Description"
   ]
  },
  {
   "cell_type": "markdown",
   "id": "d009fae5",
   "metadata": {},
   "source": [
    "The model takes in two input variables:\n",
    "1. $x_1=\\log_{10}(\\mathrm{Luminosity}/\\mathrm{L}_\\odot)$\n",
    "2. $x_2=g-\\mathrm{W1}$\n",
    "\n",
    "And produces one output:\n",
    "1. $y_1=\\log_{10}(\\mathrm{Mass}/\\mathrm{M}_\\odot)$\n",
    "\n",
    "We can visualise the training data using 3D plots. Note that the inputs have been normalised between 0 and 1 as is best practice."
   ]
  },
  {
   "cell_type": "code",
   "execution_count": 37,
   "id": "189a1b4c",
   "metadata": {},
   "outputs": [
    {
     "data": {
      "text/plain": [
       "<mpl_toolkits.mplot3d.art3d.Path3DCollection at 0x12142ce10>"
      ]
     },
     "execution_count": 37,
     "metadata": {},
     "output_type": "execute_result"
    },
    {
     "data": {
      "image/png": "[encoded data removed]",
      "text/plain": [
       "<Figure size 640x480 with 1 Axes>"
      ]
     },
     "metadata": {},
     "output_type": "display_data"
    }
   ],
   "source": [
    "# set x and y\n",
    "x = np.column_stack([data['LogL'], data['g-W1']])\n",
    "x = (x - np.min(x, axis=0)) / (np.max(x, axis=0) - np.min(x, axis=0)) # normalise\n",
    "y = np.array(data['LogM']).reshape(-1,1)\n",
    "\n",
    "ax = plt.figure().add_subplot(projection='3d')\n",
    "ax.scatter(x[:,0], x[:,1], y[:,0], c='k', marker='o')"
   ]
  },
  {
   "cell_type": "code",
   "execution_count": 35,
   "id": "69377213",
   "metadata": {},
   "outputs": [
    {
     "data": {
      "text/plain": [
       "111"
      ]
     },
     "execution_count": 35,
     "metadata": {},
     "output_type": "execute_result"
    }
   ],
   "source": [
    "len(y[:,0])"
   ]
  },
  {
   "cell_type": "markdown",
   "id": "f2d5df35",
   "metadata": {},
   "source": [
    "We now split data into training, validation, and test sets using the 70/20/10 rule."
   ]
  },
  {
   "cell_type": "code",
   "execution_count": null,
   "id": "1fbf9cb5",
   "metadata": {},
   "outputs": [],
   "source": [
    "# split into training, validation, test sets\n",
    "train_size = int(0.7 * len(x))\n",
    "valid_size = int(0.2 * len(x))\n",
    "test_size = len(x) - train_size - valid_size\n",
    "\n",
    "x_train, x_valid, x_test = x[:train_size], x[train_size:train_size+valid_size], x[-test_size:]\n",
    "y_train, y_valid, y_test = y[:train_size], y[train_size:train_size+valid_size], y[-test_size:]\n",
    "\n",
    "print(\"Training Data: {} {}\".format(x_train.shape, y_train.shape))\n",
    "print(\"Validation Data: {} {}\".format(x_valid.shape, y_valid.shape))\n",
    "print(\"Test Data: {} {}\".format(x_test.shape, y_test.shape))"
   ]
  },
  {
   "cell_type": "markdown",
   "id": "771d9396",
   "metadata": {},
   "source": [
    "## Network Architecture"
   ]
  },
  {
   "cell_type": "markdown",
   "id": "88218f37",
   "metadata": {},
   "source": []
  },
  {
   "cell_type": "code",
   "execution_count": null,
   "id": "4cc7581c",
   "metadata": {},
   "outputs": [],
   "source": [
    "# activation functions\n",
    "def relu(x):\n",
    "    return np.maximum(0, x)\n",
    "\n",
    "# linear output for regression\n",
    "def linear(x):\n",
    "    return x\n",
    "\n",
    "# derivatives\n",
    "def relu_derivative(x):\n",
    "    results = np.ones_like(x)\n",
    "    results[x < 0] = 0\n",
    "    return results"
   ]
  },
  {
   "cell_type": "code",
   "execution_count": 5,
   "id": "a43fdaf8",
   "metadata": {},
   "outputs": [],
   "source": [
    "# network sizes\n",
    "input_layer = 2\n",
    "hidden_layer = 8\n",
    "output_layer = 1\n",
    "\n",
    "# initialize weights and biases (use a small scale to ensure stable updates with lr=0.1)\n",
    "init_scale = 0.001\n",
    "rng = np.random.default_rng(42)\n",
    "w1 = init_scale * rng.normal(0, np.sqrt(2/input_layer), size=(hidden_layer, input_layer))\n",
    "b1 = np.zeros((hidden_layer, 1))\n",
    "w2 = init_scale * rng.normal(0, np.sqrt(2/hidden_layer), size=(output_layer, hidden_layer))\n",
    "b2 = np.zeros((output_layer, 1))\n",
    "\n",
    "# defining how the neuron works\n",
    "def f_z(x,w,b):\n",
    "    return (np.matmul(w, x.T)+b).T\n",
    "\n",
    "def f_y1(x, w1, b1):\n",
    "    z1 = f_z(x, w1, b1)\n",
    "    return relu(z1)\n",
    "\n",
    "def f_y2(y1, w2, b2):\n",
    "    z2 = f_z(y1, w2, b2)\n",
    "    return linear(z2)\n",
    "\n",
    "def feed_forward(x,w1,b1,w2,b2):\n",
    "    y1 = f_y1(x, w1, b1)\n",
    "    y2 = f_y2(y1, w2, b2)\n",
    "    return y2"
   ]
  },
  {
   "cell_type": "code",
   "execution_count": 6,
   "id": "091588db",
   "metadata": {},
   "outputs": [],
   "source": [
    "def loss_rmse(y_true, y_pred):\n",
    "    y_t = np.asarray(y_true).reshape(-1,1)\n",
    "    y_p = np.asarray(y_pred).reshape(-1,1)\n",
    "    return np.sqrt(np.mean((y_t - y_p)**2))"
   ]
  },
  {
   "cell_type": "code",
   "execution_count": 7,
   "id": "88d6621d",
   "metadata": {},
   "outputs": [],
   "source": [
    "def gradient_descent(x,y,w1,b1,w2,b2):\n",
    "    # x: (N, input_layer)\n",
    "    # y: (N,1)\n",
    "    N = x.shape[0]\n",
    "\n",
    "    # forward\n",
    "    z1 = f_z(x, w1, b1)      # (N, hidden_layer)\n",
    "    y1 = f_y1(x, w1, b1)     # (N, hidden_layer)\n",
    "    y2 = f_y2(y1, w2, b2)    # (N, output_layer)\n",
    "\n",
    "    # loss derivative for MSE, dL/dy_pred = 2*(y_pred - y_true)/N\n",
    "    dLdy2 = 2*(y2 - y) / N   # (N,1)\n",
    "\n",
    "    # gradients for w2 and b2\n",
    "    # w2 shape (output_layer, hidden_layer)\n",
    "    dLdw2 = np.matmul(dLdy2.T, y1)  # (1, hidden_layer)\n",
    "    dLdb2 = np.sum(dLdy2, axis=0).reshape(-1,1)  # (1,1)\n",
    "\n",
    "    # backprop into hidden layer\n",
    "    dy1dz1 = relu_derivative(z1)  # (N, hidden_layer)\n",
    "    dLdz1 = np.matmul(dLdy2, w2) * dy1dz1  # (N, hidden_layer)\n",
    "\n",
    "    # gradients for w1 and b1\n",
    "    # w1 shape (hidden_layer, input_layer)\n",
    "    dLdw1 = np.matmul(dLdz1.T, x)  # (hidden_layer, input_layer)\n",
    "    dLdb1 = np.sum(dLdz1, axis=0).reshape(-1,1)  # (hidden_layer,1)\n",
    "\n",
    "    return {'dLdw1': dLdw1, 'dLdw2': dLdw2, 'dLdb1': dLdb1, 'dLdb2': dLdb2}"
   ]
  },
  {
   "cell_type": "code",
   "execution_count": 10,
   "id": "7d57acb0",
   "metadata": {},
   "outputs": [
    {
     "name": "stdout",
     "output_type": "stream",
     "text": [
      "Final training loss: 1.1116255464139704\n"
     ]
    }
   ],
   "source": [
    "# training loop with accept/reject (keeps l_rate constant)\n",
    "# l_rate remains equal to the user-provided value throughout\n",
    "l_rate = 0.5  # set this before running; will not be changed by the loop\n",
    "Nepoch = 10\n",
    "loss_train = np.zeros(Nepoch)\n",
    "loss_valid = np.zeros(Nepoch)\n",
    "\n",
    "for step in range(Nepoch):\n",
    "    # evaluate current losses\n",
    "    output_train = feed_forward(x_train, w1, b1, w2, b2)\n",
    "    loss_train[step] = loss_rmse(y_train, output_train)\n",
    "    output_valid = feed_forward(x_valid, w1, b1, w2, b2)\n",
    "    loss_valid[step] = loss_rmse(y_valid, output_valid)\n",
    "\n",
    "    # compute gradients on training set\n",
    "    grads = gradient_descent(x_train, y_train, w1, b1, w2, b2)\n",
    "\n",
    "    # If learning rate is greater than 0.1, allow regular update (may increase loss)\n",
    "    if l_rate > 0.1:\n",
    "        w1 = w1 - l_rate * grads['dLdw1']\n",
    "        b1 = b1 - l_rate * grads['dLdb1']\n",
    "        w2 = w2 - l_rate * grads['dLdw2']\n",
    "        b2 = b2 - l_rate * grads['dLdb2']\n",
    "    else:\n",
    "        # For l_rate <= 0.1, compute tentative update using the same l_rate and accept only\n",
    "        # if it does not increase the training loss. This preserves the input learning rate.\n",
    "        w1_new = w1 - l_rate * grads['dLdw1']\n",
    "        b1_new = b1 - l_rate * grads['dLdb1']\n",
    "        w2_new = w2 - l_rate * grads['dLdw2']\n",
    "        b2_new = b2 - l_rate * grads['dLdb2']\n",
    "\n",
    "        out_train_new = feed_forward(x_train, w1_new, b1_new, w2_new, b2_new)\n",
    "        new_loss = loss_rmse(y_train, out_train_new)\n",
    "\n",
    "        if new_loss <= loss_train[step]:\n",
    "            # accept update (l_rate unchanged)\n",
    "            w1, b1, w2, b2 = w1_new, b1_new, w2_new, b2_new\n",
    "        else:\n",
    "            # reject update (no parameter change) to keep loss non-increasing\n",
    "            pass\n",
    "\n",
    "# After training you can plot loss_train/loss_valid in the next cell\n",
    "print('Final training loss:', loss_train[-1])"
   ]
  },
  {
   "cell_type": "code",
   "execution_count": 11,
   "id": "d7fc4b71",
   "metadata": {},
   "outputs": [
    {
     "data": {
      "image/png": "[encoded data removed]",
      "text/plain": [
       "<Figure size 700x400 with 1 Axes>"
      ]
     },
     "metadata": {},
     "output_type": "display_data"
    }
   ],
   "source": [
    "import matplotlib.pyplot as plt\n",
    "\n",
    "# Plot training and validation loss vs epoch\n",
    "epochs = np.arange(1, Nepoch+1)\n",
    "plt.figure(figsize=(7,4))\n",
    "plt.plot(epochs, loss_train, marker='o', label='Train loss')\n",
    "plt.plot(epochs, loss_valid, marker='s', label='Validation loss')\n",
    "plt.xlabel('Epoch')\n",
    "plt.ylabel('MSE Loss')\n",
    "plt.title('Training and Validation Loss per Epoch')\n",
    "plt.legend()\n",
    "plt.grid(True)\n",
    "# save a copy to the assignment folder\n",
    "#plt.savefig('assignment-4/loss_vs_epoch.png', bbox_inches='tight')\n",
    "plt.show()\n",
    "#print(\"Saved plot to assignment-4/loss_vs_epoch.png\")"
   ]
  },
  {
   "cell_type": "markdown",
   "id": "e05df10a",
   "metadata": {},
   "source": [
    "## Gradient Equations"
   ]
  },
  {
   "cell_type": "markdown",
   "id": "a1aca100",
   "metadata": {},
   "source": [
    "## Comparing Learning Rates"
   ]
  }
 ],
 "metadata": {
  "kernelspec": {
   "display_name": "Python 3",
   "language": "python",
   "name": "python3"
  },
  "language_info": {
   "codemirror_mode": {
    "name": "ipython",
    "version": 3
   },
   "file_extension": ".py",
   "mimetype": "text/x-python",
   "name": "python",
   "nbconvert_exporter": "python",
   "pygments_lexer": "ipython3",
   "version": "3.13.7"
  }
 },
 "nbformat": 4,
 "nbformat_minor": 5
}
