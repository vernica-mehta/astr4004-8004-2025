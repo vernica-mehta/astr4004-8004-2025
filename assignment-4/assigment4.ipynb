{
 "cells": [
  {
   "cell_type": "markdown",
   "id": "5903da05",
   "metadata": {},
   "source": [
    "# Modelling the Stellar Mass-Luminosity Relation Using a Neural Network"
   ]
  },
  {
   "cell_type": "markdown",
   "id": "ff850d80",
   "metadata": {},
   "source": [
    "## Model Description"
   ]
  },
  {
   "cell_type": "markdown",
   "id": "771d9396",
   "metadata": {},
   "source": [
    "## Network Architecture"
   ]
  },
  {
   "cell_type": "markdown",
   "id": "e05df10a",
   "metadata": {},
   "source": [
    "## Gradient Equations"
   ]
  },
  {
   "cell_type": "markdown",
   "id": "a1aca100",
   "metadata": {},
   "source": [
    "## Comparing Learning Rates"
   ]
  }
 ],
 "metadata": {
  "language_info": {
   "name": "python"
  }
 },
 "nbformat": 4,
 "nbformat_minor": 5
}
